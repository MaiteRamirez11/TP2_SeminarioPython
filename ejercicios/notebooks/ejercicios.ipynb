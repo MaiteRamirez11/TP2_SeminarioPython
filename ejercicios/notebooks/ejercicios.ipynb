{
 "cells": [
  {
   "cell_type": "code",
   "execution_count": 1,
   "metadata": {},
   "outputs": [],
   "source": [
    "import sys\n",
    "import os\n",
    "# Obtener la ruta absoluta del directorio raíz del proyecto\n",
    "sys.path.append(os.path.abspath(\"../src\"))"
   ]
  },
  {
   "cell_type": "markdown",
   "metadata": {},
   "source": [
    "\n",
    "# 1. Análisis del Zen de Python\n",
    "Copie el texto del Zen de Python en una variable e imprima todas las líneas cuya segunda\n",
    "palabra comience con una vocal (A, E, I, O, U, a, e, i, o, u).\n",
    "El Zen de Python es una colección de principios que guían la filosofía de diseño de Python,\n",
    "escrita en forma de aforismos. Resalta la simplicidad, legibilidad y claridad en el código.\n",
    "Para verlo en Python, ejecute en la consola import this\n",
    "Para este punto debe colocar el contenido del Zen de python en una variable string:\n",
    "    \n",
    "```\n",
    "    zen_text = \"\"\"Colocar aquí el Zen de Python\"\"\"\n",
    "```\n",
    "\n",
    "**Salida esperada:**\n",
    "```\n",
    "Beautiful is better than ugly.\n",
    "Explicit is better than implicit.\n",
    "Simple is better than complex.\n",
    "Complex is better than complicated.\n",
    "... (otras líneas que cumplan la condición) \n",
    "```\n",
    "\n"
   ]
  },
  {
   "cell_type": "code",
   "execution_count": null,
   "metadata": {},
   "outputs": [],
   "source": [
    "#Ejercicio 1\n",
    "\n",
    "from funciones1 import process_text\n",
    "\n",
    "zen_text =  \"\"\"Beautiful is better than ugly.\n",
    "Explicit is better than implicit.\n",
    "Simple is better than complex.\n",
    "Complex is better than complicated.\n",
    "Flat is better than nested.\n",
    "Sparse is better than dense.\n",
    "Readability counts.\n",
    "Special cases aren't special enough to break the rules.\n",
    "Although practicality beats purity.\n",
    "Errors should never pass silently.\n",
    "Unless explicitly silenced.\n",
    "In the face of ambiguity, refuse the temptation to guess.\n",
    "There should be one-- and preferably only one --obvious way to do it.\n",
    "Although that way may not be obvious at first unless you're Dutch.\n",
    "Now is better than never.\n",
    "Although never is often better than *right* now.\n",
    "If the implementation is hard to explain, it's a bad idea.\n",
    "If the implementation is easy to explain, it may be a good idea.\n",
    "Namespaces are one honking great idea -- let's do more of those!\"\"\"\n",
    "\n",
    "process_text(zen_text)"
   ]
  },
  {
   "cell_type": "markdown",
   "metadata": {},
   "source": [
    "# 2. Título más largo\n",
    "Dado un listado de títulos de streams en Twitch: <br />\n",
    "\n",
    "```\n",
    "    titles = [\n",
    "        \"Speedrun de Super Mario en tiempo récord\",\n",
    "        \"Charla sobre desarrollo de videojuegos\",\n",
    "        \"Jugando al nuevo FPS del momento con amigos\",\n",
    "        \"Música en vivo: improvisaciones al piano\"\n",
    "    ]\n",
    "```\n",
    "\n",
    "Encuentre el título con más palabras y muéstrelo en pantalla. <br />\n",
    "\n",
    "**Salida esperada:** <br />\n",
    "\n",
    "```\n",
    "El título más largo es: \"Jugando al nuevo FPS del momento con amigos\"\n",
    "```"
   ]
  },
  {
   "cell_type": "code",
   "execution_count": null,
   "metadata": {},
   "outputs": [],
   "source": [
    "#Ejercicio 2\n",
    "\n",
    "titles = [\n",
    "    \"Speedrun de Super Mario en tiempo récord\",\n",
    "    \"Charla sobre desarrollo de videojuegos\",\n",
    "    \"Jugando al nuevo FPS del momento con amigos\",\n",
    "    \"Música en vivo: improvisaciones al piano\"\n",
    "]\n",
    "#titles: es el elemento que va a ser evaluado para encontrar el maximo\n",
    "#key: especifica una función que se aplicará en cada elemento de title para determinar cuál es el mayor.\n",
    "#en este caso la funcion lambda genera una lista con las palabras del titulo y devuelve la cantidad de palabras que contiene.\n",
    "longest_title = max(titles, key=lambda title: (len(title.split()))) \n",
    "print(f'El titulo mas largo es: {longest_title}')"
   ]
  },
  {
   "cell_type": "markdown",
   "metadata": {},
   "source": [
    "# 3. Código de conducta\n",
    "Dado un código de conducta para un servidor de Discord:<br />\n",
    "```\n",
    "    rules = \"\"\"Respeta a los demás. No se permiten insultos ni lenguaje\n",
    "    ofensivo.\n",
    "    Evita el spam. No publiques enlaces sospechosos o repetitivos.\n",
    "    No compartas información personal.\n",
    "    Usa los canales adecuados para cada tema.\n",
    "    Sigue las instrucciones de los moderadores.\"\"\"\n",
    "```\n",
    "\n",
    "Solicite una palabra clave al usuario e imprima todas las reglas que la contengan.<br />\n",
    "\n",
    "**Salida esperada:**\n",
    "```\n",
    "Ingrese una palabra clave: moderadores\n",
    "Sigue las instrucciones de los moderadores.\n",
    "```"
   ]
  },
  {
   "cell_type": "code",
   "execution_count": null,
   "metadata": {},
   "outputs": [],
   "source": [
    "#Ejercicio 3\n",
    "\n",
    "from funciones3 import process_keyword\n",
    "\n",
    "rules = \"\"\"Respeta a los demás. No se permiten insultos ni lenguaje\n",
    "ofensivo.\n",
    "Evita el spam. No publiques enlaces sospechosos o repetitivos.\n",
    "No compartas información personal.\n",
    "Usa los canales adecuados para cada tema.\n",
    "Sigue las instrucciones de los moderadores.\"\"\"\n",
    "\n",
    "keyword = input('Ingrese una palabra clave: ')\n",
    "process_keyword(keyword, rules)"
   ]
  },
  {
   "cell_type": "markdown",
   "metadata": {},
   "source": [
    "\n",
    "# 4. Validación de nombre de usuario\n",
    "Valide un nombre de usuario con los siguientes criterios:<br />\n",
    "* Al menos 5 caracteres.\n",
    "* Contiene al menos un número.\n",
    "* Contiene al menos una letra mayúscula.\n",
    "* Solo puede contener letras y números.\n",
    "\n",
    "**Ejemplo de entrada y salida esperada:**\n",
    "```\n",
    "    Ingrese un nombre de usuario: Gamer123\n",
    "    El nombre de usuario es válido.\n",
    "    Ingrese un nombre de usuario: gamer\n",
    "    El nombre de usuario no cumple con los requisitos.\n",
    "```"
   ]
  },
  {
   "cell_type": "code",
   "execution_count": null,
   "metadata": {},
   "outputs": [],
   "source": [
    "#Ejercicio 4 \n",
    "\n",
    "from funciones4 import process_username\n",
    "\n",
    "for i in range(2):\n",
    "    user_name = input('Ingrese un nombre de usuario: ')\n",
    "    process_username(user_name)"
   ]
  },
  {
   "cell_type": "markdown",
   "metadata": {},
   "source": [
    "# 5. Clasificación de velocidad de reacción en un juego\n",
    "Dado el tiempo de reacción de un jugador en milisegundos, clasifíquelo en las siguientes\n",
    "categorías: <br />\n",
    "\n",
    "* Menos de 200 ms: Rápido \n",
    "* Entre 200 y 500 ms: Normal \n",
    "* Más de 500 ms: Lento \n",
    "\n",
    "**Ejemplo de salida esperada:**\n",
    "```\n",
    "    Ingrese su tiempo de reacción en ms: 320\n",
    "    Categoría: Normal\n",
    "```"
   ]
  },
  {
   "cell_type": "code",
   "execution_count": null,
   "metadata": {},
   "outputs": [],
   "source": [
    "#Ejercicio 5\n",
    "\n",
    "from funciones5 import process_time\n",
    "\n",
    "for i in range(3):\n",
    "    time = int(input('Ingrese su tiempo de reacción en ms: '))\n",
    "    category = process_time(time)\n",
    "    print(f'Categoría: {category}')"
   ]
  },
  {
   "cell_type": "markdown",
   "metadata": {},
   "source": [
    "# 6. Análisis de descripciones de una plataforma de stream\n",
    "Dadas varias descripciones de streams en Twitch, cuente cuántas menciones hay de\n",
    "\"entretenimiento\", \"música\" y \"charla\" <br />\n",
    "```\n",
    "descriptions = [\n",
    "\"Streaming de música en vivo con covers y composiciones\",\n",
    "\"Charla interactiva con la audiencia sobre series y películas\",\n",
    "\"Jugamos a juegos retro y charlamos sobre su historia\",\n",
    "\"Exploramos la mejor música de los 80s y 90s\",\n",
    "\"Programa de entretenimiento con noticias y curiosidades del mundo\n",
    "gamer\",\n",
    "\"Sesión de charla con invitados especiales del mundo del streaming\",\n",
    "\"Música en directo con improvisaciones y peticiones del chat\",\n",
    "\"Un espacio para charlar relajada sobre tecnología y cultura digital\",\n",
    "\"Exploramos el impacto de la música en los videojuegos clásicos\"\n",
    "]\n",
    "```\n",
    "\n",
    "**Salida esperada:**\n",
    "```\n",
    "Menciones de 'música': 4\n",
    "Menciones de 'charla': 2\n",
    "Menciones de 'entretenimiento': 1\n",
    "```"
   ]
  },
  {
   "cell_type": "code",
   "execution_count": null,
   "metadata": {},
   "outputs": [],
   "source": [
    "#Ejercicio 6\n",
    "\n",
    "from funciones6 import process_descriptions\n",
    "\n",
    "descriptions = [\n",
    "\"Streaming de música en vivo con covers y composiciones\",\n",
    "\"Charla interactiva con la audiencia sobre series y películas\",\n",
    "\"Jugamos a juegos retro y charlamos sobre su historia\",\n",
    "\"Exploramos la mejor música de los 80s y 90s\",\n",
    "\"Programa de entretenimiento con noticias y curiosidades del mundo gamer\",\n",
    "\"Sesión de charla con invitados especiales del mundo del streaming\",\n",
    "\"Música en directo con improvisaciones y peticiones del chat\",\n",
    "\"Un espacio para charlar relajada sobre tecnología y cultura digital\",\n",
    "\"Exploramos el impacto de la música en los videojuegos clásicos\"\n",
    "]\n",
    "\n",
    "dict = process_descriptions(descriptions)\n",
    "print(f'Menciones de musica: {dict[\"música\"]}')\n",
    "print(f'Menciones de charla: {dict[\"charla\"]}')\n",
    "print(f'Menciones de entretenimiento: {dict[\"entretenimiento\"]}')\n"
   ]
  },
  {
   "cell_type": "markdown",
   "metadata": {},
   "source": [
    "# 7. Generador de códigos de descuento\n",
    "\n",
    "Genere un código de descuento aleatorio para un usuario en base a su nombre, la fecha\n",
    "actual y el resto deben ser números o letras aleatorias. El código debe tener una longitud de\n",
    "30 caracteres, todas las letras deben ser mayúsculas.\n",
    "El usuario debe ingresarse por teclado y debe validar que no exeda los 15 caracteres. <br />\n",
    "\n",
    "**Entrada:**\n",
    "```\n",
    "Usuario: StreamerPro\n",
    "Fecha: 2025-04-10\n",
    "```\n",
    "\n",
    "**Salida esperada:**\n",
    "```\n",
    "Código de descuento: STREAMERPRO-20250410-AB12CDECA\n",
    "```"
   ]
  },
  {
   "cell_type": "code",
   "execution_count": null,
   "metadata": {},
   "outputs": [],
   "source": [
    "#Ejercicio 7 \n",
    "\n",
    "from funciones7 import create_code\n",
    "\n",
    "usser = input('Ingrese un nombre de usuario: ')\n",
    "date = input('Ingrese la fecha actual: ')\n",
    "\n",
    "if len(usser) > 15:\n",
    "    print('El usuario debe tener maximo 15 caracteres.')\n",
    "else:   \n",
    "    code = create_code(usser, date)\n",
    "    print(f'Código de descuento: ', code)"
   ]
  },
  {
   "cell_type": "markdown",
   "metadata": {},
   "source": [
    "# 8. Identificación de anagramas\n",
    "Determine si dos palabras ingresadas son anagramas (contienen las mismas letras en\n",
    "diferente orden). <br />\n",
    "**Ejemplo de entrada y salida esperada:**\n",
    "```\n",
    "Ingrese la primera palabra: amor\n",
    "Ingrese la segunda palabra: roma\n",
    "Son anagramas.\n",
    "```\n",
    "```\n",
    "Ingrese la primera palabra: python\n",
    "Ingrese la segunda palabra: java\n",
    "No son anagramas.\n",
    "```"
   ]
  },
  {
   "cell_type": "code",
   "execution_count": null,
   "metadata": {},
   "outputs": [],
   "source": [
    "# Ejercicio 8 \n",
    "\n",
    "from funciones8 import process_words\n",
    "\n",
    "word_1 = input('Ingrese la primera palabra: ')\n",
    "word_2 = input('Ingrese la segunda palabra: ')\n",
    "process_words(word_1, word_2)"
   ]
  }
 ],
 "metadata": {
  "kernelspec": {
   "display_name": "venv",
   "language": "python",
   "name": "python3"
  },
  "language_info": {
   "codemirror_mode": {
    "name": "ipython",
    "version": 3
   },
   "file_extension": ".py",
   "mimetype": "text/x-python",
   "name": "python",
   "nbconvert_exporter": "python",
   "pygments_lexer": "ipython3",
   "version": "3.12.9"
  }
 },
 "nbformat": 4,
 "nbformat_minor": 2
}
